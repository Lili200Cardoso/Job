{
 "cells": [
  {
   "cell_type": "markdown",
   "id": "92e34850",
   "metadata": {},
   "source": [
    "## Teste"
   ]
  },
  {
   "cell_type": "markdown",
   "id": "5b33ac5c",
   "metadata": {},
   "source": [
    "### int INDICE = 13, SOMA = 0, K = 0;\n",
    "\n",
    "enquanto K < INDICE faça { K = K + 1; SOMA = SOMA + K; }\n",
    "\n",
    "imprimir(SOMA);\n",
    "\n",
    "Ao final do processamento, qual será o valor da variável SOMA?"
   ]
  },
  {
   "cell_type": "code",
   "execution_count": 1,
   "id": "f5040de4",
   "metadata": {},
   "outputs": [
    {
     "name": "stdout",
     "output_type": "stream",
     "text": [
      "91\n"
     ]
    }
   ],
   "source": [
    "indice = 13\n",
    "soma = 0\n",
    "k = 0\n",
    "\n",
    "while k < indice:\n",
    "    k = k + 1\n",
    "    soma = soma + k\n",
    "print(soma)"
   ]
  },
  {
   "cell_type": "markdown",
   "id": "d574de19",
   "metadata": {},
   "source": [
    "### 2) Dado a sequência de Fibonacci, onde se inicia por 0 e 1 e o próximo valor sempre será a soma dos 2 valores anteriores (exemplo: 0, 1, 1, 2, 3, 5, 8, 13, 21, 34...), escreva um programa na linguagem que desejar onde, informado um número, ele calcule a sequência de Fibonacci e retorne uma mensagem avisando se o número informado pertence ou não a sequência.\n",
    "\n",
    "IMPORTANTE: Esse número pode ser informado através de qualquer entrada de sua preferência ou pode ser previamente definido no código;"
   ]
  },
  {
   "cell_type": "code",
   "execution_count": 2,
   "id": "28986692",
   "metadata": {},
   "outputs": [
    {
     "name": "stdout",
     "output_type": "stream",
     "text": [
      "Entre com um número: 13\n",
      "Fibonacci(13): 233; O número digitado pertence a sequência Fibonacci.\n"
     ]
    }
   ],
   "source": [
    "fibonacci = [1,1]\n",
    "i = 0\n",
    "num = int(input(\"Entre com um número: \"))\n",
    "\n",
    "while num > len(fibonacci):\n",
    "\tfibonacci.append(fibonacci[i] + fibonacci[i+1])\n",
    "\ti+=1\n",
    "print ('Fibonacci(%d): %d;' %(num,fibonacci[num-1]),end=\"\")\n",
    "if (num in fibonacci):\n",
    "    print(\" O número digitado pertence a sequência Fibonacci.\")\n",
    "else:\n",
    "    print(\" O número não pertence a sequência Fibonacci.\") "
   ]
  },
  {
   "cell_type": "markdown",
   "id": "3f01cd20",
   "metadata": {},
   "source": [
    "### 3) Dado um vetor que guarda o valor de faturamento diário de uma distribuidora, faça um programa, na linguagem que desejar, que calcule e retorne: • O menor valor de faturamento ocorrido em um dia do mês; • O maior valor de faturamento ocorrido em um dia do mês; • Número de dias no mês em que o valor de faturamento diário foi superior à média mensal.\n",
    "\n",
    "IMPORTANTE: a) Usar o json ou xml disponível como fonte dos dados do faturamento mensal; b) Podem existir dias sem faturamento, como nos finais de semana e feriados. Estes dias devem ser ignorados no cálculo da média;\n",
    "\n",
    "###OBS: Usei um arquivo meu para simular a atividade, pois não estava disponivél o arquivo"
   ]
  },
  {
   "cell_type": "code",
   "execution_count": 3,
   "id": "cd22a4fe",
   "metadata": {},
   "outputs": [],
   "source": [
    "import pandas as pd\n",
    "import numpy as np"
   ]
  },
  {
   "cell_type": "code",
   "execution_count": 4,
   "id": "8f7bde66",
   "metadata": {},
   "outputs": [
    {
     "data": {
      "text/plain": [
       "'C:\\\\Users\\\\jacks'"
      ]
     },
     "execution_count": 4,
     "metadata": {},
     "output_type": "execute_result"
    }
   ],
   "source": [
    "pwd"
   ]
  },
  {
   "cell_type": "code",
   "execution_count": 5,
   "id": "ec8bcfa9",
   "metadata": {},
   "outputs": [
    {
     "data": {
      "text/html": [
       "<div>\n",
       "<style scoped>\n",
       "    .dataframe tbody tr th:only-of-type {\n",
       "        vertical-align: middle;\n",
       "    }\n",
       "\n",
       "    .dataframe tbody tr th {\n",
       "        vertical-align: top;\n",
       "    }\n",
       "\n",
       "    .dataframe thead th {\n",
       "        text-align: right;\n",
       "    }\n",
       "</style>\n",
       "<table border=\"1\" class=\"dataframe\">\n",
       "  <thead>\n",
       "    <tr style=\"text-align: right;\">\n",
       "      <th></th>\n",
       "      <th>data</th>\n",
       "      <th>receita</th>\n",
       "      <th>transacoes_blog</th>\n",
       "      <th>transacoes_site</th>\n",
       "      <th>usuarios_blog</th>\n",
       "      <th>usuarios_site</th>\n",
       "    </tr>\n",
       "  </thead>\n",
       "  <tbody>\n",
       "    <tr>\n",
       "      <th>0</th>\n",
       "      <td>2019-01-01</td>\n",
       "      <td>349183.80</td>\n",
       "      <td>0.0</td>\n",
       "      <td>4693.17</td>\n",
       "      <td>0.0</td>\n",
       "      <td>46739.29</td>\n",
       "    </tr>\n",
       "    <tr>\n",
       "      <th>1</th>\n",
       "      <td>2019-01-02</td>\n",
       "      <td>867328.02</td>\n",
       "      <td>0.0</td>\n",
       "      <td>8500.80</td>\n",
       "      <td>0.0</td>\n",
       "      <td>83128.64</td>\n",
       "    </tr>\n",
       "    <tr>\n",
       "      <th>2</th>\n",
       "      <td>2019-01-03</td>\n",
       "      <td>758589.54</td>\n",
       "      <td>0.0</td>\n",
       "      <td>9375.06</td>\n",
       "      <td>0.0</td>\n",
       "      <td>86066.65</td>\n",
       "    </tr>\n",
       "    <tr>\n",
       "      <th>3</th>\n",
       "      <td>2019-01-04</td>\n",
       "      <td>688872.90</td>\n",
       "      <td>0.0</td>\n",
       "      <td>8404.92</td>\n",
       "      <td>0.0</td>\n",
       "      <td>69363.30</td>\n",
       "    </tr>\n",
       "    <tr>\n",
       "      <th>4</th>\n",
       "      <td>2019-01-05</td>\n",
       "      <td>441759.94</td>\n",
       "      <td>0.0</td>\n",
       "      <td>6136.20</td>\n",
       "      <td>0.0</td>\n",
       "      <td>56182.50</td>\n",
       "    </tr>\n",
       "  </tbody>\n",
       "</table>\n",
       "</div>"
      ],
      "text/plain": [
       "         data    receita  transacoes_blog  transacoes_site  usuarios_blog  \\\n",
       "0  2019-01-01  349183.80              0.0          4693.17            0.0   \n",
       "1  2019-01-02  867328.02              0.0          8500.80            0.0   \n",
       "2  2019-01-03  758589.54              0.0          9375.06            0.0   \n",
       "3  2019-01-04  688872.90              0.0          8404.92            0.0   \n",
       "4  2019-01-05  441759.94              0.0          6136.20            0.0   \n",
       "\n",
       "   usuarios_site  \n",
       "0       46739.29  \n",
       "1       83128.64  \n",
       "2       86066.65  \n",
       "3       69363.30  \n",
       "4       56182.50  "
      ]
     },
     "execution_count": 5,
     "metadata": {},
     "output_type": "execute_result"
    }
   ],
   "source": [
    "df = pd.read_excel('psel.xlsx')\n",
    "df.head()"
   ]
  },
  {
   "cell_type": "code",
   "execution_count": 6,
   "id": "54a12913",
   "metadata": {},
   "outputs": [
    {
     "data": {
      "text/html": [
       "<div>\n",
       "<style scoped>\n",
       "    .dataframe tbody tr th:only-of-type {\n",
       "        vertical-align: middle;\n",
       "    }\n",
       "\n",
       "    .dataframe tbody tr th {\n",
       "        vertical-align: top;\n",
       "    }\n",
       "\n",
       "    .dataframe thead th {\n",
       "        text-align: right;\n",
       "    }\n",
       "</style>\n",
       "<table border=\"1\" class=\"dataframe\">\n",
       "  <thead>\n",
       "    <tr style=\"text-align: right;\">\n",
       "      <th></th>\n",
       "      <th>amin</th>\n",
       "    </tr>\n",
       "    <tr>\n",
       "      <th>receita</th>\n",
       "      <th></th>\n",
       "    </tr>\n",
       "  </thead>\n",
       "  <tbody>\n",
       "    <tr>\n",
       "      <th>32085.19</th>\n",
       "      <td>2019-05-14</td>\n",
       "    </tr>\n",
       "  </tbody>\n",
       "</table>\n",
       "</div>"
      ],
      "text/plain": [
       "                amin\n",
       "receita             \n",
       "32085.19  2019-05-14"
      ]
     },
     "execution_count": 6,
     "metadata": {},
     "output_type": "execute_result"
    }
   ],
   "source": [
    "## • O menor valor de faturamento ocorrido em um dia do mês;\n",
    "\n",
    "menor_valor = df.groupby('receita')\n",
    "menor_valor['data'].agg([np.min]).head(1)"
   ]
  },
  {
   "cell_type": "code",
   "execution_count": 7,
   "id": "fcee2b32",
   "metadata": {},
   "outputs": [
    {
     "data": {
      "text/html": [
       "<div>\n",
       "<style scoped>\n",
       "    .dataframe tbody tr th:only-of-type {\n",
       "        vertical-align: middle;\n",
       "    }\n",
       "\n",
       "    .dataframe tbody tr th {\n",
       "        vertical-align: top;\n",
       "    }\n",
       "\n",
       "    .dataframe thead th {\n",
       "        text-align: right;\n",
       "    }\n",
       "</style>\n",
       "<table border=\"1\" class=\"dataframe\">\n",
       "  <thead>\n",
       "    <tr style=\"text-align: right;\">\n",
       "      <th></th>\n",
       "      <th>amax</th>\n",
       "    </tr>\n",
       "    <tr>\n",
       "      <th>receita</th>\n",
       "      <th></th>\n",
       "    </tr>\n",
       "  </thead>\n",
       "  <tbody>\n",
       "    <tr>\n",
       "      <th>12266843.7</th>\n",
       "      <td>2019-11-29</td>\n",
       "    </tr>\n",
       "  </tbody>\n",
       "</table>\n",
       "</div>"
      ],
      "text/plain": [
       "                  amax\n",
       "receita               \n",
       "12266843.7  2019-11-29"
      ]
     },
     "execution_count": 7,
     "metadata": {},
     "output_type": "execute_result"
    }
   ],
   "source": [
    "##  • O maior valor de faturamento ocorrido em um dia do mês;\n",
    "\n",
    "maior_valor = df.groupby('receita')\n",
    "maior_valor['data'].agg([np.max]).tail(1)"
   ]
  },
  {
   "cell_type": "code",
   "execution_count": 8,
   "id": "f1d15803",
   "metadata": {},
   "outputs": [
    {
     "data": {
      "text/plain": [
       "1623891.1741548113"
      ]
     },
     "execution_count": 8,
     "metadata": {},
     "output_type": "execute_result"
    }
   ],
   "source": [
    "df.receita.mean()"
   ]
  },
  {
   "cell_type": "code",
   "execution_count": 9,
   "id": "ae9559d6",
   "metadata": {},
   "outputs": [
    {
     "data": {
      "text/plain": [
       "{False: 386, True: 253}"
      ]
     },
     "execution_count": 9,
     "metadata": {},
     "output_type": "execute_result"
    }
   ],
   "source": [
    "## • Número de dias no mês em que o valor de faturamento diário foi superior à média mensal\n",
    "\n",
    "dias_receita_maior_media = df.groupby('data').mean()['receita'] > df['receita'].mean()\n",
    "dias_receita_maior_media.value_counts().to_dict()"
   ]
  },
  {
   "cell_type": "markdown",
   "id": "36923e3b",
   "metadata": {},
   "source": [
    "### 4) Dado o valor de faturamento mensal de uma distribuidora, detalhado por estado:\n",
    "\n",
    "SP – R 67.836,43𝑅𝐽–𝑅 36.678,66 MG – R 29.229,88𝐸𝑆–𝑅 27.165,48 Outros – R$19.849,53\n",
    "\n",
    "Escreva um programa na linguagem que desejar onde calcule o percentual de representação que cada estado teve dentro do valor total mensal da distribuidora"
   ]
  },
  {
   "cell_type": "code",
   "execution_count": 10,
   "id": "c38bfeec",
   "metadata": {},
   "outputs": [
    {
     "data": {
      "text/plain": [
       "SP        67836.43\n",
       "RJ        36678.66\n",
       "MG        29229.88\n",
       "ES        27165.48\n",
       "Outros    19849.53\n",
       "dtype: float64"
      ]
     },
     "execution_count": 10,
     "metadata": {},
     "output_type": "execute_result"
    }
   ],
   "source": [
    "import pandas as pd\n",
    "import numpy as np\n",
    "\n",
    "faturamento = pd.Series([67836.43, 36678.66, 29229.88, 27165.48, 19849.53], index=['SP', 'RJ', 'MG', 'ES', 'Outros'])\n",
    "faturamento"
   ]
  },
  {
   "cell_type": "code",
   "execution_count": 11,
   "id": "7459df31",
   "metadata": {},
   "outputs": [
    {
     "data": {
      "text/plain": [
       "180759.98"
      ]
     },
     "execution_count": 11,
     "metadata": {},
     "output_type": "execute_result"
    }
   ],
   "source": [
    "faturamento_total = faturamento.sum()\n",
    "faturamento_total"
   ]
  },
  {
   "cell_type": "code",
   "execution_count": 12,
   "id": "e79c9e29",
   "metadata": {},
   "outputs": [
    {
     "name": "stdout",
     "output_type": "stream",
     "text": [
      "0.3752845624346716\n",
      "0.20291360952794973\n",
      "0.16170548370275323\n",
      "0.15028481414968067\n",
      "0.10981153018494469\n"
     ]
    }
   ],
   "source": [
    "SP = faturamento['SP'] / faturamento_total\n",
    "percentual = SP * 100\n",
    "print(SP)\n",
    "\n",
    "RJ = faturamento['RJ'] / faturamento_total\n",
    "percentual = RJ * 100\n",
    "print(RJ)\n",
    "\n",
    "MG = faturamento['MG'] / faturamento_total\n",
    "percentual = MG * 100\n",
    "print(MG)\n",
    "\n",
    "ES = faturamento['ES'] / faturamento_total\n",
    "percentual = ES * 100\n",
    "print(ES)\n",
    "\n",
    "Outros = faturamento['Outros'] / faturamento_total\n",
    "percentual = Outros * 100\n",
    "print(Outros)\n",
    "\n",
    "\n",
    "\n",
    "\n"
   ]
  },
  {
   "cell_type": "markdown",
   "id": "a2414cbd",
   "metadata": {},
   "source": [
    "### 5) Escreva um programa que inverta os caracteres de um string.\n",
    "IMPORTANTE: a) Essa string pode ser informada através de qualquer entrada de sua preferência ou pode ser previamente definida no código; b) Evite usar funções prontas, como, por exemplo, reverse;"
   ]
  },
  {
   "cell_type": "code",
   "execution_count": 13,
   "id": "aefd8a6a",
   "metadata": {},
   "outputs": [
    {
     "name": "stdout",
     "output_type": "stream",
     "text": [
      "otxet retrevnI\n"
     ]
    }
   ],
   "source": [
    "txt = 'Inverter texto'[::-1]\n",
    "print(txt)"
   ]
  },
  {
   "cell_type": "code",
   "execution_count": null,
   "id": "e6d99349",
   "metadata": {},
   "outputs": [],
   "source": []
  }
 ],
 "metadata": {
  "kernelspec": {
   "display_name": "Python 3 (ipykernel)",
   "language": "python",
   "name": "python3"
  },
  "language_info": {
   "codemirror_mode": {
    "name": "ipython",
    "version": 3
   },
   "file_extension": ".py",
   "mimetype": "text/x-python",
   "name": "python",
   "nbconvert_exporter": "python",
   "pygments_lexer": "ipython3",
   "version": "3.9.7"
  }
 },
 "nbformat": 4,
 "nbformat_minor": 5
}
